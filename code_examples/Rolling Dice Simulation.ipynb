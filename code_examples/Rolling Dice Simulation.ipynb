{
 "cells": [
  {
   "cell_type": "markdown",
   "metadata": {},
   "source": [
    "# Example Python code for rolling dice"
   ]
  },
  {
   "cell_type": "code",
   "execution_count": 14,
   "metadata": {},
   "outputs": [],
   "source": [
    "import numpy as np\n",
    "import random"
   ]
  },
  {
   "cell_type": "markdown",
   "metadata": {},
   "source": [
    "## 1. Rolling a single 6-sided die many times and gathering the results"
   ]
  },
  {
   "cell_type": "code",
   "execution_count": 2,
   "metadata": {},
   "outputs": [
    {
     "data": {
      "text/plain": [
       "array([1, 3, 4, 6, 4, 3, 6, 5, 4, 1, 3, 1, 1, 1, 1, 6, 1, 6, 1, 1, 4, 4,\n",
       "       5, 5, 2, 3, 1, 2, 3, 6, 4, 3, 2, 5, 4, 4, 1, 4, 3, 6, 1, 4, 4, 2,\n",
       "       4, 3, 2, 6, 6, 4, 4, 5, 6, 3, 2, 5, 5, 1, 2, 1, 6, 1, 3, 6, 6, 3,\n",
       "       6, 3, 2, 3, 5, 3, 2, 1, 6, 5, 2, 5, 5, 4, 4, 3, 4, 2, 4, 3, 1, 1,\n",
       "       6, 3, 6, 4, 2, 2, 2, 1, 1, 5, 1, 6])"
      ]
     },
     "execution_count": 2,
     "metadata": {},
     "output_type": "execute_result"
    }
   ],
   "source": [
    "die_rolls = np.random.randint(1,7, size=100)\n",
    "die_rolls.view()"
   ]
  },
  {
   "cell_type": "code",
   "execution_count": 3,
   "metadata": {},
   "outputs": [
    {
     "name": "stdout",
     "output_type": "stream",
     "text": [
      "17\n"
     ]
    }
   ],
   "source": [
    "number_of_threes = np.count_nonzero(die_rolls==3)\n",
    "print(number_of_threes)"
   ]
  },
  {
   "cell_type": "markdown",
   "metadata": {},
   "source": [
    "----\n",
    "We can ask how the dice rolls are distributed."
   ]
  },
  {
   "cell_type": "code",
   "execution_count": 4,
   "metadata": {},
   "outputs": [
    {
     "name": "stdout",
     "output_type": "stream",
     "text": [
      "{1: 21, 2: 14, 3: 17, 4: 19, 5: 12, 6: 17}\n"
     ]
    }
   ],
   "source": [
    "distributions = {i:np.count_nonzero(die_rolls== i) for i in range(1,7)}\n",
    "print(distributions)"
   ]
  },
  {
   "cell_type": "markdown",
   "metadata": {},
   "source": [
    "----\n",
    "Or maybe how many odd rolls are followed by even rolls"
   ]
  },
  {
   "cell_type": "code",
   "execution_count": 5,
   "metadata": {},
   "outputs": [
    {
     "name": "stdout",
     "output_type": "stream",
     "text": [
      "30\n"
     ]
    }
   ],
   "source": [
    "num_odd_then_even = 0\n",
    "for i in range(len(die_rolls)-1):\n",
    "    if die_rolls[i]%2 == 1 and die_rolls[i+1]%2 == 0:\n",
    "        num_odd_then_even += 1\n",
    "print(num_odd_then_even)"
   ]
  },
  {
   "cell_type": "markdown",
   "metadata": {},
   "source": [
    "## 2. Rolling Two 6-Sided Dice at Once"
   ]
  },
  {
   "cell_type": "code",
   "execution_count": 10,
   "metadata": {},
   "outputs": [
    {
     "data": {
      "text/plain": [
       "array([[3, 5],\n",
       "       [3, 3],\n",
       "       [5, 6],\n",
       "       [3, 3],\n",
       "       [5, 3],\n",
       "       [2, 3],\n",
       "       [1, 6],\n",
       "       [5, 4],\n",
       "       [3, 4],\n",
       "       [6, 4]])"
      ]
     },
     "execution_count": 10,
     "metadata": {},
     "output_type": "execute_result"
    }
   ],
   "source": [
    "two_dice_rolls = np.random.randint(1,7, size=(100,2))\n",
    "two_dice_rolls[:10]"
   ]
  },
  {
   "cell_type": "markdown",
   "metadata": {},
   "source": [
    "----\n",
    "Summing our two dice"
   ]
  },
  {
   "cell_type": "code",
   "execution_count": 11,
   "metadata": {},
   "outputs": [
    {
     "data": {
      "text/plain": [
       "array([ 8,  6, 11,  6,  8,  5,  7,  9,  7, 10,  7, 12,  8,  5, 10,  9,  4,\n",
       "        9, 11, 10,  7,  6,  9, 11,  4,  7,  4,  4,  7,  5, 10,  6,  6,  9,\n",
       "        5, 11, 11,  4,  7,  9,  3,  6, 12,  9,  7, 11, 11,  5,  5,  8,  8,\n",
       "        7,  7,  6,  5,  2,  8,  9,  8,  3, 10,  8,  6,  7,  6,  6,  6,  9,\n",
       "        7,  7,  8,  2,  8, 12, 11,  5, 11, 11,  2,  8,  5, 11,  3,  9,  7,\n",
       "        8,  3,  3,  6, 10,  7, 10,  5, 11,  3,  7, 10,  7,  5,  3])"
      ]
     },
     "execution_count": 11,
     "metadata": {},
     "output_type": "execute_result"
    }
   ],
   "source": [
    "summed_rolls = np.array([sum(row) for row in two_dice_rolls])\n",
    "summed_rolls.view()"
   ]
  },
  {
   "cell_type": "code",
   "execution_count": 12,
   "metadata": {},
   "outputs": [
    {
     "name": "stdout",
     "output_type": "stream",
     "text": [
      "{2: 3, 3: 7, 4: 5, 5: 11, 6: 12, 7: 17, 8: 12, 9: 10, 10: 8, 11: 12, 12: 3}\n"
     ]
    }
   ],
   "source": [
    "sum_distributions = {i:np.count_nonzero(summed_rolls== i) for i in range(2,13)}\n",
    "print(sum_distributions)"
   ]
  },
  {
   "cell_type": "markdown",
   "metadata": {},
   "source": [
    "## A Silly Game"
   ]
  },
  {
   "cell_type": "markdown",
   "metadata": {},
   "source": [
    "This is going to be a very silly two player die rolling game. \n",
    "\n",
    "First to score 40 points wins. The first player is determined randomly.\n",
    "\n",
    "On your turn\n",
    "* Roll the die, you get the number of points as represented by the roll.\n",
    "* You may choose to roll again. If you roll high than you last rolled, you double your points. If not, you instead gain no points this turn and your turn is over.\n",
    "* You may choose to continue to roll again until your turn is over.\n",
    "\n",
    "I will test two competing strategies.\n",
    "* Roll once and walk away.\n",
    "* Roll until you get a 6 or you bust."
   ]
  },
  {
   "cell_type": "markdown",
   "metadata": {},
   "source": [
    "---\n",
    "Strategy 1: The player that just takes what they're given.  I'll call this the `scared_strat`."
   ]
  },
  {
   "cell_type": "code",
   "execution_count": null,
   "metadata": {},
   "outputs": [],
   "source": [
    "def scared_strat():\n",
    "    return random.randint(1,6)"
   ]
  },
  {
   "cell_type": "markdown",
   "metadata": {},
   "source": [
    "---\n",
    "Strategy 2: The player that really likes to double things. I'll call this the `bold_strat`."
   ]
  },
  {
   "cell_type": "code",
   "execution_count": 29,
   "metadata": {},
   "outputs": [],
   "source": [
    "def bold_strat():\n",
    "    roll = random.randint(1,6)\n",
    "    score = roll\n",
    "    while roll < 6:\n",
    "        old_roll = roll\n",
    "        roll = random.randint(1,6)\n",
    "        if roll <= old_roll:\n",
    "            return 0\n",
    "        else:\n",
    "            score *= 2\n",
    "    return score"
   ]
  },
  {
   "cell_type": "markdown",
   "metadata": {},
   "source": [
    "---\n",
    "Creating a function that simulates games"
   ]
  },
  {
   "cell_type": "code",
   "execution_count": 79,
   "metadata": {},
   "outputs": [],
   "source": [
    "def simulate_game(strat_list):\n",
    "    '''\n",
    "    Given two strategies for my goofy dice game, determine who wins.\n",
    "    INPUT::\n",
    "        - `strat_list`: a list of two functions that each output the points earned by a strategy in a given round\n",
    "    OUTPUT::\n",
    "        - the index of the winning strategy from the list\n",
    "    '''\n",
    "    points = [0,0] # Players start with 0 points\n",
    "    who_first = random.randint(0,1) # Determine which player goes first\n",
    "    who_second = (who_first+1)%2 # Use arithmetic to determine the index of the second player\n",
    "    while True: # Each round of play is below. The fist person takes their turn and gets points.\n",
    "        points[who_first] += strat_list[who_first]()\n",
    "        if points[who_first] >= 40: # If the first player has scored enough, they win.\n",
    "            return who_first\n",
    "        else:\n",
    "            points[who_second] += strat_list[who_second]() # Otherwise the second player goes.\n",
    "        if points[who_second] >= 40: # If the second player scored enough, then they win.\n",
    "            return who_second"
   ]
  },
  {
   "cell_type": "markdown",
   "metadata": {},
   "source": [
    "---\n",
    "Simulating the game 1000 times to get data on counts. \n",
    "There appears to be strong evidence that the bold strategy is the wrong one."
   ]
  },
  {
   "cell_type": "code",
   "execution_count": 82,
   "metadata": {},
   "outputs": [
    {
     "name": "stdout",
     "output_type": "stream",
     "text": [
      "838\n",
      "162\n"
     ]
    }
   ],
   "source": [
    "# Simulate 100 times and count how many times each strategy wins\n",
    "wins = [simulate_game([scared_strat,bold_strat]) for i in range(1000)]\n",
    "scared_wins = wins.count(0)\n",
    "print(scared_wins)\n",
    "bold_wins = wins.count(1)\n",
    "print(bold_wins)"
   ]
  }
 ],
 "metadata": {
  "kernelspec": {
   "display_name": "Python 3",
   "language": "python",
   "name": "python3"
  },
  "language_info": {
   "codemirror_mode": {
    "name": "ipython",
    "version": 3
   },
   "file_extension": ".py",
   "mimetype": "text/x-python",
   "name": "python",
   "nbconvert_exporter": "python",
   "pygments_lexer": "ipython3",
   "version": "3.6.5"
  }
 },
 "nbformat": 4,
 "nbformat_minor": 2
}
