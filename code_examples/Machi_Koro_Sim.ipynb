{
 "cells": [
  {
   "cell_type": "code",
   "execution_count": 4,
   "metadata": {},
   "outputs": [],
   "source": [
    "def make_player_dict():\n",
    "    to_return = {\n",
    "        \"money\": 3,\n",
    "        \"wheat field\": 1,\n",
    "        \"ranch\": 0,\n",
    "        \"bakery\": 1,\n",
    "        \"cafe\": 0,\n",
    "        \"convenience store\": 0,\n",
    "        \"forest\": 0,\n",
    "        \"stadium\": 0,\n",
    "        \"tv station\": 0,\n",
    "        \"business center\": 0,\n",
    "        \"cheese factory\": 0,\n",
    "        \"furniture factory\": 0,\n",
    "        \"mine\": 0,\n",
    "        \"family restaurant\": 0,\n",
    "        \"apple orchard\": 0,\n",
    "        \"market\": 0,\n",
    "        \"train station\": 0,\n",
    "        \"shopping mall\": 0,\n",
    "        \"amusement park\": 0,\n",
    "        \"radio tower\": 0\n",
    "    }\n",
    "    return to_return"
   ]
  },
  {
   "cell_type": "code",
   "execution_count": 8,
   "metadata": {},
   "outputs": [],
   "source": [
    "def simulate_game(strategy_list):\n",
    "    num_players = len(strategy_list) # determine how many players there are\n",
    "    player_dicts = [make_player_dict() for player in num_players] # generate a player dictionary for each player\n",
    "    player_rolling = randint(0,num_players-1) # determine who is up first by choosing a random number between 0 and num_players-1\n",
    "    while True: # continue until someone wins\n",
    "        roll = randint(1,6) # roll the first die\n",
    "        if player_dicts[player_rolling][\"train station\"] > 0:\n",
    "            roll += randint(1,6) # roll the second die if the player has the train station\n",
    "        for ii in range(num_players): # apply this roll to every player\n",
    "            player_looking_at = (player_rolling+ii)%num_players # we start by tabulating the roller's money\n",
    "            strategy = strategy_list[player_looking_at] # capture the individual player's strategy\n",
    "            current_player_bool = (player_looking_at == player_rolling) # is this the player who rolled\n",
    "            this_players_dict = player_dicts[player_looking_at] # capture the individual player's dictionary\n",
    "            \n",
    "            this_players_dict = strategy(roll,this_players_dict,current_player_bool,num_players) # apply the strategy\n",
    "            \n",
    "            if player_dicts[player_looking_at]['money'] > 40: # test if this player has won by these not quite right standards\n",
    "                return player_looking_at\n",
    "            \n",
    "        player_rolling = (player_rolling+1)%num_players # advance to the next player if no one has won yet"
   ]
  },
  {
   "cell_type": "code",
   "execution_count": null,
   "metadata": {},
   "outputs": [],
   "source": []
  }
 ],
 "metadata": {
  "kernelspec": {
   "display_name": "Python 3",
   "language": "python",
   "name": "python3"
  },
  "language_info": {
   "codemirror_mode": {
    "name": "ipython",
    "version": 3
   },
   "file_extension": ".py",
   "mimetype": "text/x-python",
   "name": "python",
   "nbconvert_exporter": "python",
   "pygments_lexer": "ipython3",
   "version": "3.6.5"
  }
 },
 "nbformat": 4,
 "nbformat_minor": 2
}
