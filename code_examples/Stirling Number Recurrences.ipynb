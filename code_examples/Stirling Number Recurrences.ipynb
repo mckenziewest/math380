{
 "cells": [
  {
   "cell_type": "markdown",
   "metadata": {},
   "source": [
    "# Experimenting with Stirling Numbers of the Second Kind"
   ]
  },
  {
   "cell_type": "markdown",
   "metadata": {},
   "source": [
    "https://en.wikipedia.org/wiki/Stirling_numbers_of_the_second_kind\n",
    "\n",
    "For integers $n$ and $k$, we define $S(n,k)$ to be the number of ways to distribute $n$ distinct items among $k$ non-distinct buckets.\n",
    "\n",
    "We note that if $n=k$, then $S(n,k)=1$. We will define $S(n,0)=S(0,k)=0$.\n",
    "\n",
    "Here are some more values:\n",
    "\n",
    "$$S(3,2)=3,$$\n",
    "\n",
    "$$S(6,4)=65.$$\n",
    "\n",
    "The values $S(n,k)$ satisfy the following recurrence relation\n",
    "\n",
    "$$ S(n,k)=S(n-1,k-1)+kS(n-1,k) $$\n",
    "\n",
    "The summands in this recurrence correspond to whether or not the $n$th distinct item is in its own bucket or not.\n",
    "\n",
    "Let's program this."
   ]
  },
  {
   "cell_type": "code",
   "execution_count": 1,
   "metadata": {},
   "outputs": [],
   "source": [
    "def S(n,k):\n",
    "    if n == k:\n",
    "        return 1\n",
    "    elif n == 0 or k == 0:\n",
    "        return 0\n",
    "    else:\n",
    "        return S(n-1,k-1)+k*S(n-1,k)"
   ]
  },
  {
   "cell_type": "code",
   "execution_count": 2,
   "metadata": {},
   "outputs": [],
   "source": [
    "table_of_values = [[S(n,k) for k in range(10)] for n in range(10)]"
   ]
  },
  {
   "cell_type": "code",
   "execution_count": 3,
   "metadata": {},
   "outputs": [
    {
     "name": "stdout",
     "output_type": "stream",
     "text": [
      "[[1, 0, 0, 0, 0, 0, 0, 0, 0, 0], [0, 1, 0, 0, 0, 0, 0, 0, 0, 0], [0, 1, 1, 0, 0, 0, 0, 0, 0, 0], [0, 1, 3, 1, 0, 0, 0, 0, 0, 0], [0, 1, 7, 6, 1, 0, 0, 0, 0, 0], [0, 1, 15, 25, 10, 1, 0, 0, 0, 0], [0, 1, 31, 90, 65, 15, 1, 0, 0, 0], [0, 1, 63, 301, 350, 140, 21, 1, 0, 0], [0, 1, 127, 966, 1701, 1050, 266, 28, 1, 0], [0, 1, 255, 3025, 7770, 6951, 2646, 462, 36, 1]]\n"
     ]
    }
   ],
   "source": [
    "print(table_of_values)"
   ]
  },
  {
   "cell_type": "code",
   "execution_count": 4,
   "metadata": {},
   "outputs": [
    {
     "name": "stdout",
     "output_type": "stream",
     "text": [
      "[1, 0, 0, 0, 0, 0, 0, 0, 0, 0]\n",
      "[0, 1, 0, 0, 0, 0, 0, 0, 0, 0]\n",
      "[0, 1, 1, 0, 0, 0, 0, 0, 0, 0]\n",
      "[0, 1, 3, 1, 0, 0, 0, 0, 0, 0]\n",
      "[0, 1, 7, 6, 1, 0, 0, 0, 0, 0]\n",
      "[0, 1, 15, 25, 10, 1, 0, 0, 0, 0]\n",
      "[0, 1, 31, 90, 65, 15, 1, 0, 0, 0]\n",
      "[0, 1, 63, 301, 350, 140, 21, 1, 0, 0]\n",
      "[0, 1, 127, 966, 1701, 1050, 266, 28, 1, 0]\n",
      "[0, 1, 255, 3025, 7770, 6951, 2646, 462, 36, 1]\n"
     ]
    }
   ],
   "source": [
    "for row in table_of_values:\n",
    "    print(row)"
   ]
  },
  {
   "cell_type": "markdown",
   "metadata": {},
   "source": [
    "-----\n",
    "A manual way of printing as a nice table"
   ]
  },
  {
   "cell_type": "code",
   "execution_count": 5,
   "metadata": {},
   "outputs": [
    {
     "name": "stdout",
     "output_type": "stream",
     "text": [
      "      |   0     1     2     3     4     5     6     7     8     9     \n",
      "----------------------------------------------------------------------\n",
      "  0   |   1     0     0     0     0     0     0     0     0     0     \n",
      "  1   |   0     1     0     0     0     0     0     0     0     0     \n",
      "  2   |   0     1     1     0     0     0     0     0     0     0     \n",
      "  3   |   0     1     3     1     0     0     0     0     0     0     \n",
      "  4   |   0     1     7     6     1     0     0     0     0     0     \n",
      "  5   |   0     1     15    25    10    1     0     0     0     0     \n",
      "  6   |   0     1     31    90    65    15    1     0     0     0     \n",
      "  7   |   0     1     63    301   350   140   21    1     0     0     \n",
      "  8   |   0     1     127   966   1701  1050  266   28    1     0     \n",
      "  9   |   0     1     255   3025  7770  6951  2646  462   36    1     \n"
     ]
    }
   ],
   "source": [
    "headers = [\"{:<6}\".format(ii) for ii in range(len(table_of_values[0]))]\n",
    "print(f\"{'':>3}\"+\"   |   \"+\"\".join(headers))\n",
    "print(\"-\"*len(f\"{'':>3}\"+\"   |   \"+\"\".join(headers)))\n",
    "for row in table_of_values:\n",
    "    row_as_string = [\"{:<6}\".format(x) for x in row]\n",
    "    print(f\"{table_of_values.index(row):>3}\"+\"   |   \"+\"\".join(row_as_string))"
   ]
  },
  {
   "cell_type": "markdown",
   "metadata": {},
   "source": [
    "----\n",
    "Creating a dataframe, which will make it look nice. More options for making tables look nice are available [here](https://stackoverflow.com/questions/9535954/printing-lists-as-tabular-data)"
   ]
  },
  {
   "cell_type": "code",
   "execution_count": 12,
   "metadata": {},
   "outputs": [
    {
     "data": {
      "text/html": [
       "<div>\n",
       "<style scoped>\n",
       "    .dataframe tbody tr th:only-of-type {\n",
       "        vertical-align: middle;\n",
       "    }\n",
       "\n",
       "    .dataframe tbody tr th {\n",
       "        vertical-align: top;\n",
       "    }\n",
       "\n",
       "    .dataframe thead th {\n",
       "        text-align: right;\n",
       "    }\n",
       "</style>\n",
       "<table border=\"1\" class=\"dataframe\">\n",
       "  <thead>\n",
       "    <tr style=\"text-align: right;\">\n",
       "      <th></th>\n",
       "      <th>0</th>\n",
       "      <th>1</th>\n",
       "      <th>2</th>\n",
       "      <th>3</th>\n",
       "      <th>4</th>\n",
       "      <th>5</th>\n",
       "      <th>6</th>\n",
       "      <th>7</th>\n",
       "      <th>8</th>\n",
       "      <th>9</th>\n",
       "    </tr>\n",
       "  </thead>\n",
       "  <tbody>\n",
       "    <tr>\n",
       "      <th>0</th>\n",
       "      <td>1</td>\n",
       "      <td>0</td>\n",
       "      <td>0</td>\n",
       "      <td>0</td>\n",
       "      <td>0</td>\n",
       "      <td>0</td>\n",
       "      <td>0</td>\n",
       "      <td>0</td>\n",
       "      <td>0</td>\n",
       "      <td>0</td>\n",
       "    </tr>\n",
       "    <tr>\n",
       "      <th>1</th>\n",
       "      <td>0</td>\n",
       "      <td>1</td>\n",
       "      <td>0</td>\n",
       "      <td>0</td>\n",
       "      <td>0</td>\n",
       "      <td>0</td>\n",
       "      <td>0</td>\n",
       "      <td>0</td>\n",
       "      <td>0</td>\n",
       "      <td>0</td>\n",
       "    </tr>\n",
       "    <tr>\n",
       "      <th>2</th>\n",
       "      <td>0</td>\n",
       "      <td>1</td>\n",
       "      <td>1</td>\n",
       "      <td>0</td>\n",
       "      <td>0</td>\n",
       "      <td>0</td>\n",
       "      <td>0</td>\n",
       "      <td>0</td>\n",
       "      <td>0</td>\n",
       "      <td>0</td>\n",
       "    </tr>\n",
       "    <tr>\n",
       "      <th>3</th>\n",
       "      <td>0</td>\n",
       "      <td>1</td>\n",
       "      <td>3</td>\n",
       "      <td>1</td>\n",
       "      <td>0</td>\n",
       "      <td>0</td>\n",
       "      <td>0</td>\n",
       "      <td>0</td>\n",
       "      <td>0</td>\n",
       "      <td>0</td>\n",
       "    </tr>\n",
       "    <tr>\n",
       "      <th>4</th>\n",
       "      <td>0</td>\n",
       "      <td>1</td>\n",
       "      <td>7</td>\n",
       "      <td>6</td>\n",
       "      <td>1</td>\n",
       "      <td>0</td>\n",
       "      <td>0</td>\n",
       "      <td>0</td>\n",
       "      <td>0</td>\n",
       "      <td>0</td>\n",
       "    </tr>\n",
       "    <tr>\n",
       "      <th>5</th>\n",
       "      <td>0</td>\n",
       "      <td>1</td>\n",
       "      <td>15</td>\n",
       "      <td>25</td>\n",
       "      <td>10</td>\n",
       "      <td>1</td>\n",
       "      <td>0</td>\n",
       "      <td>0</td>\n",
       "      <td>0</td>\n",
       "      <td>0</td>\n",
       "    </tr>\n",
       "    <tr>\n",
       "      <th>6</th>\n",
       "      <td>0</td>\n",
       "      <td>1</td>\n",
       "      <td>31</td>\n",
       "      <td>90</td>\n",
       "      <td>65</td>\n",
       "      <td>15</td>\n",
       "      <td>1</td>\n",
       "      <td>0</td>\n",
       "      <td>0</td>\n",
       "      <td>0</td>\n",
       "    </tr>\n",
       "    <tr>\n",
       "      <th>7</th>\n",
       "      <td>0</td>\n",
       "      <td>1</td>\n",
       "      <td>63</td>\n",
       "      <td>301</td>\n",
       "      <td>350</td>\n",
       "      <td>140</td>\n",
       "      <td>21</td>\n",
       "      <td>1</td>\n",
       "      <td>0</td>\n",
       "      <td>0</td>\n",
       "    </tr>\n",
       "    <tr>\n",
       "      <th>8</th>\n",
       "      <td>0</td>\n",
       "      <td>1</td>\n",
       "      <td>127</td>\n",
       "      <td>966</td>\n",
       "      <td>1701</td>\n",
       "      <td>1050</td>\n",
       "      <td>266</td>\n",
       "      <td>28</td>\n",
       "      <td>1</td>\n",
       "      <td>0</td>\n",
       "    </tr>\n",
       "    <tr>\n",
       "      <th>9</th>\n",
       "      <td>0</td>\n",
       "      <td>1</td>\n",
       "      <td>255</td>\n",
       "      <td>3025</td>\n",
       "      <td>7770</td>\n",
       "      <td>6951</td>\n",
       "      <td>2646</td>\n",
       "      <td>462</td>\n",
       "      <td>36</td>\n",
       "      <td>1</td>\n",
       "    </tr>\n",
       "  </tbody>\n",
       "</table>\n",
       "</div>"
      ],
      "text/plain": [
       "   0  1    2     3     4     5     6    7   8  9\n",
       "0  1  0    0     0     0     0     0    0   0  0\n",
       "1  0  1    0     0     0     0     0    0   0  0\n",
       "2  0  1    1     0     0     0     0    0   0  0\n",
       "3  0  1    3     1     0     0     0    0   0  0\n",
       "4  0  1    7     6     1     0     0    0   0  0\n",
       "5  0  1   15    25    10     1     0    0   0  0\n",
       "6  0  1   31    90    65    15     1    0   0  0\n",
       "7  0  1   63   301   350   140    21    1   0  0\n",
       "8  0  1  127   966  1701  1050   266   28   1  0\n",
       "9  0  1  255  3025  7770  6951  2646  462  36  1"
      ]
     },
     "execution_count": 12,
     "metadata": {},
     "output_type": "execute_result"
    }
   ],
   "source": [
    "import pandas as pd\n",
    "df = pd.DataFrame(table_of_values)\n",
    "df"
   ]
  },
  {
   "cell_type": "markdown",
   "metadata": {},
   "source": [
    "## Another relation\n",
    "\n",
    "There is another recurrence relation given by\n",
    "$$ S(n+1,k+1) = \\sum_{j=k}^n\\binom{n}{j}S(j,k) $$\n",
    "We can test that this still holds."
   ]
  },
  {
   "cell_type": "code",
   "execution_count": 6,
   "metadata": {},
   "outputs": [],
   "source": [
    "def binom(n,k):\n",
    "    import math\n",
    "    num = math.factorial(n)\n",
    "    denom = math.factorial(k)*math.factorial(n-k)\n",
    "    return int(num/denom)\n",
    "def LHS_of_relation(n,k):\n",
    "    terms = [binom(n,j)*S(j,k) for j in range(k,n+1)]\n",
    "    return sum(terms)\n",
    "\n",
    "def test_relation(n,k):\n",
    "    return S(n+1,k+1) == LHS_of_relation(n,k)"
   ]
  },
  {
   "cell_type": "code",
   "execution_count": 7,
   "metadata": {},
   "outputs": [],
   "source": [
    "for n in range(10):\n",
    "    for k in range(10):\n",
    "        if not test_relation(n,k):\n",
    "            print(n,k)"
   ]
  },
  {
   "cell_type": "code",
   "execution_count": null,
   "metadata": {},
   "outputs": [],
   "source": []
  }
 ],
 "metadata": {
  "kernelspec": {
   "display_name": "Python 3",
   "language": "python",
   "name": "python3"
  },
  "language_info": {
   "codemirror_mode": {
    "name": "ipython",
    "version": 3
   },
   "file_extension": ".py",
   "mimetype": "text/x-python",
   "name": "python",
   "nbconvert_exporter": "python",
   "pygments_lexer": "ipython3",
   "version": "3.6.5"
  }
 },
 "nbformat": 4,
 "nbformat_minor": 2
}
