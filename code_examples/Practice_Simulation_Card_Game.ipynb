{
 "cells": [
  {
   "cell_type": "markdown",
   "metadata": {},
   "source": [
    "# A notebook to practice simulating a card game"
   ]
  },
  {
   "cell_type": "code",
   "execution_count": null,
   "metadata": {},
   "outputs": [],
   "source": [
    "# import libraries here\n",
    "import random\n",
    "import numpy as np"
   ]
  },
  {
   "cell_type": "markdown",
   "metadata": {},
   "source": [
    "## The game - modified war\n",
    "\n",
    "Setup: shuffle and evenly distribute a deck of cards between two players\n",
    "\n",
    "Gameplay:\n",
    " - players simultaneously show the top card of their deck\n",
    " - if one of the cards has a numerical value that is higher than the other, the higher player takes both revealed cards and puts them at the bottom of their deck\n",
    " - (adjustment) if the players are tied, the return the card to the bottom of their deck\n",
    " \n",
    "Ending:\n",
    " - The game ends when one player has possession of all of the cards in their hand"
   ]
  },
  {
   "cell_type": "markdown",
   "metadata": {},
   "source": [
    "## 1. Generating a shuffled deck of cards\n",
    "\n",
    "Write a function that makes a list of cards. Here we'll say that a deck is a list of ordered pairs of the form `(number,suit)`."
   ]
  },
  {
   "cell_type": "code",
   "execution_count": null,
   "metadata": {},
   "outputs": [],
   "source": [
    "def make_deck(num_cards=52,num_suits=4):\n",
    "    a_deck = [(n,suit) for n in range(1,num_cards//num_suits+1) for suit in range(num_suits)]\n",
    "    return a_deck"
   ]
  },
  {
   "cell_type": "code",
   "execution_count": null,
   "metadata": {},
   "outputs": [],
   "source": [
    "def shuffle_deck(deck):\n",
    "    random.shuffle(deck)\n",
    "    return deck"
   ]
  },
  {
   "cell_type": "markdown",
   "metadata": {},
   "source": [
    "## 2. Write a function that ...\n"
   ]
  },
  {
   "cell_type": "code",
   "execution_count": null,
   "metadata": {},
   "outputs": [],
   "source": []
  }
 ],
 "metadata": {
  "kernelspec": {
   "display_name": "Python 3",
   "language": "python",
   "name": "python3"
  },
  "language_info": {
   "codemirror_mode": {
    "name": "ipython",
    "version": 3
   },
   "file_extension": ".py",
   "mimetype": "text/x-python",
   "name": "python",
   "nbconvert_exporter": "python",
   "pygments_lexer": "ipython3",
   "version": "3.6.5"
  }
 },
 "nbformat": 4,
 "nbformat_minor": 2
}
