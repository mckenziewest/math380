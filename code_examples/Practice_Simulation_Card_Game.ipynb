{
 "cells": [
  {
   "cell_type": "markdown",
   "metadata": {},
   "source": [
    "# A notebook to practice simulating a card game"
   ]
  },
  {
   "cell_type": "code",
   "execution_count": 5,
   "metadata": {},
   "outputs": [],
   "source": [
    "# import libraries here\n",
    "import random\n",
    "import numpy as np"
   ]
  },
  {
   "cell_type": "markdown",
   "metadata": {},
   "source": [
    "## The game - modified war\n",
    "\n",
    "Setup: shuffle and evenly distribute a deck of cards between two players\n",
    "\n",
    "Gameplay:\n",
    " - players simultaneously show the top card of their deck\n",
    " - if one of the cards has a numerical value that is higher than the other, the higher player takes both revealed cards and puts them at the bottom of their deck\n",
    " - (adjustment) if the players are tied, the return the card to the bottom of their deck\n",
    " \n",
    "Ending:\n",
    " - The game ends when one player has possession of all of the cards in their hand"
   ]
  },
  {
   "cell_type": "markdown",
   "metadata": {},
   "source": [
    "## 1. Generating a shuffled deck of cards\n",
    "\n",
    "Write a function that makes a list of cards. Here we'll say that a deck is a list of ordered pairs of the form `(number,suit)`."
   ]
  },
  {
   "cell_type": "code",
   "execution_count": 1,
   "metadata": {},
   "outputs": [],
   "source": [
    "def make_deck(num_cards=52,num_suits=4):\n",
    "    a_deck = [(n,suit) for n in range(1,num_cards//num_suits+1) for suit in range(num_suits)]\n",
    "    return a_deck"
   ]
  },
  {
   "cell_type": "code",
   "execution_count": 2,
   "metadata": {},
   "outputs": [],
   "source": [
    "def shuffle_deck(deck):\n",
    "    random.shuffle(deck)\n",
    "    return deck"
   ]
  },
  {
   "cell_type": "code",
   "execution_count": 7,
   "metadata": {},
   "outputs": [],
   "source": []
  },
  {
   "cell_type": "markdown",
   "metadata": {},
   "source": [
    "## 2. Write a function that deals the cards\n"
   ]
  },
  {
   "cell_type": "code",
   "execution_count": 13,
   "metadata": {},
   "outputs": [
    {
     "data": {
      "text/plain": [
       "[[(3, 0),\n",
       "  (7, 1),\n",
       "  (2, 3),\n",
       "  (9, 1),\n",
       "  (6, 1),\n",
       "  (13, 3),\n",
       "  (5, 0),\n",
       "  (3, 1),\n",
       "  (2, 2),\n",
       "  (12, 1),\n",
       "  (1, 2),\n",
       "  (3, 2),\n",
       "  (5, 2),\n",
       "  (1, 1),\n",
       "  (10, 3),\n",
       "  (9, 0),\n",
       "  (11, 0),\n",
       "  (2, 1),\n",
       "  (8, 3),\n",
       "  (12, 2),\n",
       "  (9, 3),\n",
       "  (13, 1),\n",
       "  (4, 3),\n",
       "  (11, 1),\n",
       "  (7, 3),\n",
       "  (6, 2)],\n",
       " [(10, 1),\n",
       "  (6, 0),\n",
       "  (10, 0),\n",
       "  (10, 2),\n",
       "  (8, 2),\n",
       "  (1, 3),\n",
       "  (4, 0),\n",
       "  (7, 2),\n",
       "  (8, 0),\n",
       "  (4, 2),\n",
       "  (12, 3),\n",
       "  (6, 3),\n",
       "  (13, 2),\n",
       "  (11, 2),\n",
       "  (2, 0),\n",
       "  (8, 1),\n",
       "  (4, 1),\n",
       "  (7, 0),\n",
       "  (5, 1),\n",
       "  (9, 2),\n",
       "  (12, 0),\n",
       "  (1, 0),\n",
       "  (13, 0),\n",
       "  (5, 3),\n",
       "  (3, 3),\n",
       "  (11, 3)]]"
      ]
     },
     "execution_count": 13,
     "metadata": {},
     "output_type": "execute_result"
    }
   ],
   "source": [
    "def deal_deck(deck,number_of_hands):\n",
    "    hands = [ [] for hand in range(number_of_hands)]\n",
    "    while len(deck)!=0:\n",
    "        for hand in hands:\n",
    "            card = deck.pop(0)\n",
    "            hand = hand.append(card)\n",
    "    return hands\n",
    "deck = shuffle_deck(make_deck())\n",
    "deal_deck(deck,2)"
   ]
  },
  {
   "cell_type": "code",
   "execution_count": null,
   "metadata": {},
   "outputs": [],
   "source": []
  }
 ],
 "metadata": {
  "kernelspec": {
   "display_name": "Python 3",
   "language": "python",
   "name": "python3"
  },
  "language_info": {
   "codemirror_mode": {
    "name": "ipython",
    "version": 3
   },
   "file_extension": ".py",
   "mimetype": "text/x-python",
   "name": "python",
   "nbconvert_exporter": "python",
   "pygments_lexer": "ipython3",
   "version": "3.6.5"
  }
 },
 "nbformat": 4,
 "nbformat_minor": 2
}
